{
  "cells": [
    {
      "cell_type": "markdown",
      "metadata": {},
      "source": [
        "# 02 — PINN Sod Experiment\n",
        "\n",
        "Visualização das curvas de treinamento da PINN e comparação com a solução analítica do problema de Sod."
      ]
    },
    {
      "cell_type": "code",
      "execution_count": null,
      "metadata": {},
      "outputs": [],
      "source": [
        "import sys\n",
        "from pathlib import Path\n",
        "\n",
        "PROJECT_ROOT = Path('..').resolve()\n",
        "SRC_PATH = PROJECT_ROOT / 'src'\n",
        "if str(SRC_PATH) not in sys.path:\n",
        "    sys.path.insert(0, str(SRC_PATH))"
      ]
    },
    {
      "cell_type": "code",
      "execution_count": null,
      "metadata": {},
      "outputs": [],
      "source": [
        "import json\n",
        "from pathlib import Path\n",
        "import matplotlib.pyplot as plt\n",
        "import numpy as np\n",
        "import tensorflow as tf\n",
        "from omegaconf import OmegaConf\n",
        "\n",
        "from riemann_ml.core.euler1d import StatePrim\n",
        "from riemann_ml.exact.sod_exact import sod_exact_profile\n",
        "from riemann_ml.ml.pinn.model import PINN, conservative_to_primitive\n",
        "\n",
        "GAMMA = 1.4\n",
        "CONFIG_PATH = Path('src/riemann_ml/configs/pinn.yaml')\n",
        "CHECKPOINT_DIR = Path('data/artifacts/pinn/checkpoints')\n",
        "OUTPUT_DIR = Path('data/artifacts/pinn/outputs')\n",
        "\n",
        "print('Carregando histórico de perdas...')\n",
        "history_path = OUTPUT_DIR / 'loss_history.json'\n",
        "if history_path.exists():\n",
        "    history = json.loads(history_path.read_text())\n",
        "    steps = [entry['step'] for entry in history]\n",
        "    total = [entry['loss_total'] for entry in history]\n",
        "    pde = [entry['loss_pde'] for entry in history]\n",
        "    ic = [entry['loss_ic'] for entry in history]\n",
        "    bc = [entry['loss_bc'] for entry in history]\n",
        "\n",
        "    plt.figure(figsize=(8, 5))\n",
        "    plt.plot(steps, total, label='Total')\n",
        "    plt.plot(steps, pde, label='PDE', alpha=0.7)\n",
        "    plt.plot(steps, ic, label='IC', alpha=0.7)\n",
        "    plt.plot(steps, bc, label='BC', alpha=0.7)\n",
        "    plt.xlabel('Passo')\n",
        "    plt.ylabel('Loss')\n",
        "    plt.yscale('log')\n",
        "    plt.legend()\n",
        "    plt.grid(True)\n",
        "    plt.title('Curvas de treinamento da PINN')\n",
        "    plt.show()\n",
        "else:\n",
        "    print('Histórico não encontrado:', history_path)\n",
        "\n",
        "print('Gerando comparação final...')\n",
        "cfg = OmegaConf.load(CONFIG_PATH)\n",
        "model = PINN(OmegaConf.to_container(cfg.model, resolve=True))\n",
        "model(tf.zeros((1, 2), dtype=tf.float32))\n",
        "latest = tf.train.latest_checkpoint(str(CHECKPOINT_DIR))\n",
        "if latest:\n",
        "    tf.train.Checkpoint(model=model).restore(latest).expect_partial()\n",
        "    x = np.linspace(cfg.domain.x_min, cfg.domain.x_max, 256, dtype=np.float32)\n",
        "    t = np.full_like(x, cfg.domain.t_max, dtype=np.float32)\n",
        "    preds = model.predict_conservative(tf.convert_to_tensor(x[:, None]), tf.convert_to_tensor(t[:, None]), training=False)\n",
        "    rho, u, p = conservative_to_primitive(preds[:, 0:1], preds[:, 1:2], preds[:, 2:3], cfg.gamma)\n",
        "    rho = rho.numpy().flatten()\n",
        "    u = u.numpy().flatten()\n",
        "    p = p.numpy().flatten()\n",
        "\n",
        "    left_state = StatePrim(**OmegaConf.to_container(cfg.sod.left, resolve=True))\n",
        "    right_state = StatePrim(**OmegaConf.to_container(cfg.sod.right, resolve=True))\n",
        "    rho_exact, u_exact, p_exact = sod_exact_profile(\n",
        "        x - cfg.sod.interface,\n",
        "        cfg.domain.t_max,\n",
        "        left_state=left_state,\n",
        "        right_state=right_state,\n",
        "        gamma=cfg.gamma,\n",
        "    )\n",
        "\n",
        "    fig, axes = plt.subplots(3, 1, figsize=(10, 9), sharex=True)\n",
        "    axes[0].plot(x, rho_exact, label='Exact')\n",
        "    axes[0].plot(x, rho, '--', label='PINN')\n",
        "    axes[0].set_ylabel('Density')\n",
        "    axes[0].grid(True)\n",
        "    axes[0].legend()\n",
        "\n",
        "    axes[1].plot(x, u_exact, label='Exact')\n",
        "    axes[1].plot(x, u, '--', label='PINN')\n",
        "    axes[1].set_ylabel('Velocity')\n",
        "    axes[1].grid(True)\n",
        "\n",
        "    axes[2].plot(x, p_exact, label='Exact')\n",
        "    axes[2].plot(x, p, '--', label='PINN')\n",
        "    axes[2].set_ylabel('Pressure')\n",
        "    axes[2].set_xlabel('x')\n",
        "    axes[2].grid(True)\n",
        "\n",
        "    fig.suptitle('PINN vs Exact (t = {:.3f})'.format(cfg.domain.t_max))\n",
        "    fig.tight_layout()\n",
        "    plt.show()\n",
        "else:\n",
        "    print('Checkpoint não encontrado em', CHECKPOINT_DIR)\n"
      ]
    },
    {
      "cell_type": "markdown",
      "metadata": {},
      "source": [
        "## Métricas consolidadas\n\nCarrega as métricas calculadas pelo script de avaliação para interpretar o desempenho da PINN.\n"
      ]
    },
    {
      "cell_type": "code",
      "execution_count": null,
      "metadata": {},
      "outputs": [],
      "source": [
        "import json\n",
        "from pathlib import Path\n",
        "\n",
        "metrics_path = Path('data/artifacts/eval/sod/sod_metrics.json')\n",
        "if metrics_path.exists():\n",
        "    metrics = json.loads(metrics_path.read_text(encoding='utf-8'))\n",
        "    pinn_metrics = metrics.get('PINN', {})\n",
        "    print('Métricas PINN vs. exata:')\n",
        "    for key, value in pinn_metrics.items():\n",
        "        print(f'  {key}: {value}')\n",
        "else:\n",
        "    print('Arquivo de métricas não encontrado:', metrics_path)\n"
      ]
    },
    {
      "cell_type": "markdown",
      "metadata": {},
      "source": [
        "> **Comentário:** utilize essas métricas para discutir onde a PINN precisa de ajustes (por exemplo, perdas relativas elevadas indicam necessidade de nova calibração).\n"
      ]
    }
  ],
  "metadata": {
    "kernelspec": {
      "display_name": "Python 3",
      "language": "python",
      "name": "python3"
    },
    "language_info": {
      "name": "python",
      "version": "3.11"
    }
  },
  "nbformat": 4,
  "nbformat_minor": 5
}
