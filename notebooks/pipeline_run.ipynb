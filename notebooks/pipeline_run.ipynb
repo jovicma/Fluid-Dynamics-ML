{
  "cells": [
    {
      "cell_type": "markdown",
      "metadata": {},
      "source": [
        "# Riemann-ML Pipeline: Run Simulation\n",
        "\n",
        "Este notebook reproduz o pipeline de execução do solucionador FVM (esquema de Rusanov) aplicado ao tubo de choque de Sod. O objetivo é gerar os perfis finais de densidade, velocidade e pressão e armazenar os artefatos correspondentes."
      ]
    },
    {
      "cell_type": "code",
      "execution_count": null,
      "metadata": {
        "tags": [
          "environment"
        ]
      },
      "outputs": [],
      "source": [
        "import sys\n",
        "from pathlib import Path\n",
        "\n",
        "PROJECT_ROOT = Path('..').resolve()\n",
        "SRC_PATH = PROJECT_ROOT / 'src'\n",
        "if str(SRC_PATH) not in sys.path:\n",
        "    sys.path.insert(0, str(SRC_PATH))\n"
      ]
    },
    {
      "cell_type": "code",
      "execution_count": null,
      "metadata": {
        "tags": [
          "parameters"
        ]
      },
      "outputs": [],
      "source": [
        "from pathlib import Path\n",
        "\n",
        "import numpy as np\n",
        "\n",
        "from IPython.display import Image, display\n",
        "\n",
        "from riemann_ml.core.euler1d import StatePrim\n",
        "from riemann_ml.fvm.solver import simulate\n",
        "from riemann_ml.utils.plotting import plot_profiles"
      ]
    },
    {
      "cell_type": "code",
      "execution_count": null,
      "metadata": {
        "tags": [
          "parameters"
        ]
      },
      "outputs": [],
      "source": [
        "# Parâmetros principais do experimento\n",
        "GAMMA = 1.4\n",
        "NUM_CELLS = 400\n",
        "CFL = 0.5\n",
        "FINAL_TIME = 0.2\n",
        "INTERFACE_POSITION = 0.5\n",
        "ARTIFACT_DIR = Path(\"data/artifacts/fvm_sod_notebook\")\n",
        "ARTIFACT_DIR.mkdir(parents=True, exist_ok=True)"
      ]
    },
    {
      "cell_type": "code",
      "execution_count": null,
      "metadata": {},
      "outputs": [],
      "source": [
        "# Estados primitivos do problema de Sod\n",
        "left_state = StatePrim(density=1.0, velocity=0.0, pressure=1.0)\n",
        "right_state = StatePrim(density=0.125, velocity=0.0, pressure=0.1)"
      ]
    },
    {
      "cell_type": "code",
      "execution_count": null,
      "metadata": {},
      "outputs": [],
      "source": [
        "# Executa a simulação FVM com esquema de Rusanov\n",
        "times, x, conservative_state, _ = simulate(\n",
        "    num_cells=NUM_CELLS,\n",
        "    final_time=FINAL_TIME,\n",
        "    cfl=CFL,\n",
        "    left_state=left_state,\n",
        "    right_state=right_state,\n",
        "    gamma=GAMMA,\n",
        "    interface_position=INTERFACE_POSITION,\n",
        "    store_history=False,\n",
        ")\n",
        "\n",
        "print(f\"Final time: {times[-1]:.6f} s | Total steps: {len(times) - 1}\")"
      ]
    },
    {
      "cell_type": "code",
      "execution_count": null,
      "metadata": {},
      "outputs": [],
      "source": [
        "# Converte o estado conservativo para variáveis primitivas para análise\n",
        "rho = conservative_state[:, 0]\n",
        "momentum = conservative_state[:, 1]\n",
        "energy = conservative_state[:, 2]\n",
        "velocity = momentum / np.clip(rho, 1e-12, None)\n",
        "pressure = (GAMMA - 1.0) * np.maximum(energy - 0.5 * momentum**2 / np.clip(rho, 1e-12, None), 1e-12)\n",
        "\n",
        "solution_path = ARTIFACT_DIR / \"solution_sod.npz\"\n",
        "np.savez(\n",
        "    solution_path,\n",
        "    times=times,\n",
        "    x=x,\n",
        "    q=conservative_state,\n",
        "    gamma=GAMMA,\n",
        ")\n",
        "print(f\"Persisted simulation state to {solution_path}\")"
      ]
    },
    {
      "cell_type": "code",
      "execution_count": null,
      "metadata": {},
      "outputs": [],
      "source": [
        "# Gera e exibe os perfis de densidade, velocidade e pressão\n",
        "plot_path = ARTIFACT_DIR / f\"profiles_t{times[-1]:.3f}.png\"\n",
        "plot_profiles(\n",
        "    x=x,\n",
        "    density=rho,\n",
        "    velocity=velocity,\n",
        "    pressure=pressure,\n",
        "    title=f\"Sod shock tube | t = {times[-1]:.3f} s\",\n",
        "    savepath=plot_path,\n",
        ")\n",
        "\n",
        "print(f\"Saved plot to {plot_path}\")\n",
        "display(Image(filename=str(plot_path)))"
      ]
    }
  ],
  "metadata": {
    "kernelspec": {
      "display_name": "Python 3",
      "language": "python",
      "name": "python3"
    },
    "language_info": {
      "codemirror_mode": {
        "name": "ipython",
        "version": 3
      },
      "file_extension": ".py",
      "mimetype": "text/x-python",
      "name": "python",
      "nbconvert_exporter": "python",
      "pygments_lexer": "ipython3",
      "version": "3.11"
    }
  },
  "nbformat": 4,
  "nbformat_minor": 5
}
