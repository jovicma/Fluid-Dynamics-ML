﻿{
 "cells": [
  {
   "cell_type": "markdown",
   "metadata": {},
   "source": [
    "# Relatório Final — Simulação do Problema de Riemann 1D\n",
    "\n",
    "Este notebook consolida o projeto **Riemann-ML**, visando reproduzir e analisar o problema de Sod para o sistema de Euler 1D. Todas as células foram adaptadas para execução direta no Google Colab." ]
  },
  {
   "cell_type": "markdown",
   "metadata": {},
   "source": [
    "## 1. Preparação do ambiente\n",
    "\n",
    "As células abaixo detectam se estamos no Colab, instalam as dependências e clonam o repositório para reproduzir os experimentos." ]
  },
  {
   "cell_type": "code",
   "execution_count": null,
   "metadata": {},
   "outputs": [],
   "source": [
    "import sys\n",
    "import subprocess\n",
    "from pathlib import Path\n",
    "\n",
    "IN_COLAB = 'google.colab' in sys.modules\n",
    "print('Executando no Colab?' , IN_COLAB)\n",
    "\n",
    "if IN_COLAB:\n",
    "    !pip install gitpython nbformat omegaconf hydra-core tensorflow>=2.16 torch>=2.2 neuraloperator==2.0.0 matplotlib h5py tqdm typer[all]\n",
    "    PROJECT_ROOT = Path('/content/Riemann-ML')\n",
    "    if not PROJECT_ROOT.exists():\n",
    "        !git clone https://github.com/Joao/riemann-ml.git /content/Riemann-ML\n",
    "    %cd /content/Riemann-ML\n",
    "else:\n",
    "    PROJECT_ROOT = Path('/content/Riemann-ML')\n",
    "    if not PROJECT_ROOT.exists():\n",
    "        PROJECT_ROOT = Path.cwd()\n",
    "\n",
    "SRC_PATH = PROJECT_ROOT / 'src'\n",
    "if str(SRC_PATH) not in sys.path:\n",
    "    sys.path.insert(0, str(SRC_PATH))\n",
    "\n",
    "print('PROJECT_ROOT:', PROJECT_ROOT)\n" ]
  },
  {
   "cell_type": "markdown",
   "metadata": {},
   "source": ["## 2. Contexto físico\n", "\n", "- **Equações de Euler 1D:** conservação de massa, momento e energia em um gás ideal.\n", "- **Problemas de Riemann:** condições iniciais com descontinuidade geram ondas de choque, rarefações e contatos.\n", "- **Sod shock tube:** caso clássico [Sod, 1978] utilizado para testes numéricos." ]
  },
  {
   "cell_type": "code",
   "execution_count": null,
   "metadata": {},
   "outputs": [],
   "source": ["import numpy as np\n", "from riemann_ml.core.euler1d import StatePrim\n", "from riemann_ml.fvm.solver import simulate\n", "from riemann_ml.exact.sod_exact import sod_exact_profile\n", "\n", "GAMMA = 1.4\n", "NUM_CELLS = 200\n", "FINAL_TIME = 0.2\n", "CFL = 0.5\n", "INTERFACE = 0.5\n", "\n", "left_state = StatePrim(density=1.0, velocity=0.0, pressure=1.0)\n", "right_state = StatePrim(density=0.125, velocity=0.0, pressure=0.1)\n", "\n", "print('Executando FVM Sod...')\n", "times, x_grid, cons_final, _ = simulate(\n", "    num_cells=NUM_CELLS,\n", "    final_time=FINAL_TIME,\n", "    cfl=CFL,\n", "    left_state=left_state,\n", "    right_state=right_state,\n", "    gamma=GAMMA,\n", "    interface_position=INTERFACE,\n", "    store_history=False,\n", ")\n", "print(f'Tempo final: {times[-1]:.4f} s')\n"]
  },
  {
   "cell_type": "code",
   "execution_count": null,
   "metadata": {},
   "outputs": [],
   "source": ["import matplotlib.pyplot as plt\n", "rho = cons_final[:, 0]\n", "momentum = cons_final[:, 1]\n", "energy = cons_final[:, 2]\n", "velocity = momentum / np.clip(rho, 1e-12, None)\n", "pressure = (GAMMA - 1.0) * np.maximum(energy - 0.5 * momentum**2 / np.clip(rho, 1e-12, None), 1e-12)\n", "\n", "rho_exact, u_exact, p_exact = sod_exact_profile(\n", "    x_grid - INTERFACE,\n", "    FINAL_TIME,\n", "    left_state=left_state,\n", "    right_state=right_state,\n", "    gamma=GAMMA,\n", ")\n", "\n", "fig, axes = plt.subplots(3, 1, figsize=(10, 9), sharex=True)\n", "axes[0].plot(x_grid, rho, label='FVM')\n", "axes[0].plot(x_grid, rho_exact, '--', label='Exact')\n", "axes[0].set_ylabel('Density')\n", "axes[0].legend(); axes[0].grid(True)\n", "\n", "axes[1].plot(x_grid, velocity, label='FVM')\n", "axes[1].plot(x_grid, u_exact, '--', label='Exact')\n", "axes[1].set_ylabel('Velocity'); axes[1].grid(True)\n", "\n", "axes[2].plot(x_grid, pressure, label='FVM')\n", "axes[2].plot(x_grid, p_exact, '--', label='Exact')\n", "axes[2].set_ylabel('Pressure'); axes[2].set_xlabel('x'); axes[2].grid(True)\n", "\n", "fig.suptitle('Sod shock tube — FVM vs Exact (t = {:.3f})'.format(FINAL_TIME))\n", "fig.tight_layout()\n", "plt.show()\n"]
  },
  {
   "cell_type": "markdown",
   "metadata": {},
   "source": ["**Observação:** o esquema de Rusanov captura corretamente a estrutura de ondas presentes no problema." ]
  },
  {
   "cell_type": "markdown",
   "metadata": {},
   "source": ["## 3. Geração de dataset reduzido\n", "\n", "Geramos um conjunto pequeno de amostras para demonstrar o treino do FNO. Em execuções completas, utilize `NUM_SAMPLES` maior e malha refinada." ]
  },
  {
   "cell_type": "code",
   "execution_count": null,
   "metadata": {},
   "outputs": [],
   "source": ["from riemann_ml.data.generate import sample_riemann_ic, solve_and_store\n", "\n", "DATASET_PATH = PROJECT_ROOT / 'data/processed/notebook_demo.h5'\n", "if not DATASET_PATH.exists():\n", "    print('Gerando dataset de demonstração...')\n", "    samples = sample_riemann_ic(\n", "        num_samples=100,\n", "        ranges={'rho_left': (0.9, 1.1), 'p_left': (0.9, 1.1), 'rho_right': (0.2, 0.4), 'p_right': (0.05, 0.3)},\n", "        seed=123,\n", "    )\n", "    solve_and_store(\n", "        ic_batch=samples,\n", "        num_cells=128,\n", "        cfl=0.45,\n", "        final_time=0.15,\n", "        out_path=DATASET_PATH,\n", "        gamma=1.4,\n", "        show_progress=True,\n", "    )\n", "else:\n", "    print('Usando dataset existente:', DATASET_PATH)\n"]
  },
  {
   "cell_type": "markdown",
   "metadata": {},
   "source": ["## 4. Treino demonstrativo da PINN\n", "\n", "Executamos 500 passos para ilustração. Para resultados finais use `make train-pinn`." ]
  },
  {
   "cell_type": "code",
   "execution_count": null,
   "metadata": {},
   "outputs": [],
   "source": ["from omegaconf import OmegaConf\n", "from riemann_ml.ml.pinn.train import train as train_pinn\n", "\n", "pinn_cfg = OmegaConf.load(PROJECT_ROOT / 'src/riemann_ml/configs/pinn.yaml')\n", "pinn_cfg.training.max_steps = 500\n", "OmegaConf.save(pinn_cfg, PROJECT_ROOT / 'src/riemann_ml/configs/pinn_notebook.yaml')\n", "\n", "train_pinn('pinn_notebook')\n"]
  },
  {
   "cell_type": "markdown",
   "metadata": {},
   "source": ["### 4.1 Curvas de loss da PINN" ]
  },
  {
   "cell_type": "code",
   "execution_count": null,
   "metadata": {},
   "outputs": [],
   "source": ["import json\n", "from pathlib import Path\n", "import matplotlib.pyplot as plt\n", "\n", "history_path = PROJECT_ROOT / 'data/artifacts/pinn/outputs/loss_history.json'\n", "if history_path.exists():\n", "    history = json.loads(history_path.read_text())\n", "    steps = [entry['step'] for entry in history]\n", "    total = [entry['loss_total'] for entry in history]\n", "    plt.figure(figsize=(6,4))\n", "    plt.plot(steps, total, label='Loss total')\n", "    plt.yscale('log'); plt.grid(True); plt.legend();\n", "    plt.title('PINN loss (execução curta)')\n", "else:\n", "    print('Histórico não encontrado:', history_path)\n"]
  },
  {
   "cell_type": "markdown",
   "metadata": {},
   "source": ["## 5. Treino demonstrativo do FNO" ]
  },
  {
   "cell_type": "code",
   "execution_count": null,
   "metadata": {},
   "outputs": [],
   "source": ["from riemann_ml.ml.fno.train import train as train_fno\n", "from omegaconf import OmegaConf\n", "\n", "fno_cfg = OmegaConf.load(PROJECT_ROOT / 'src/riemann_ml/configs/fno.yaml')\n", "fno_cfg.training.epochs = 5\n", "fno_cfg.training.device = 'cpu'\n", "fno_cfg.data.path = str(DATASET_PATH)\n", "OmegaConf.save(fno_cfg, PROJECT_ROOT / 'src/riemann_ml/configs/fno_notebook.yaml')\n", "\n", "train_fno('fno_notebook')\n"]
  },
  {
   "cell_type": "markdown",
   "metadata": {},
   "source": ["## 6. Avaliação consolidada" ]
  },
  {
   "cell_type": "code",
   "execution_count": null,
   "metadata": {},
   "outputs": [],
   "source": ["from pathlib import Path\n", "from riemann_ml.eval.report import main as eval_main\n", "\n", "eval_main(\n", "    dataset_path=Path(DATASET_PATH),\n", "    output_dir=Path('data/artifacts/notebook_eval'),\n", "    num_random=3,\n", ")\n"]
  },
  {
   "cell_type": "markdown",
   "metadata": {},
   "source": ["## 7. Resultados e conclusões\n", "\n", "As figuras e métricas geradas estão disponíveis em:\n", "- `data/artifacts/pinn/outputs/`\n", "- `data/artifacts/fno/outputs/`\n", "- `data/artifacts/notebook_eval/`\n", "\n", "| Modelo | relative_l2_ρ | relative_l2_u | relative_l2_p | Erro choque | Erro contato |\n", "|--------|---------------|---------------|---------------|-------------|--------------|\n", "| FVM    | *(preencher)* | *(preencher)* | *(preencher)* | *(preencher)* | *(preencher)* |\n", "| PINN   | *(preencher)* | *(preencher)* | *(preencher)* | *(preencher)* | *(preencher)* |\n", "| FNO    | *(preencher)* | *(preencher)* | *(preencher)* | *(preencher)* | *(preencher)* |\n", "\n", "- O solver numérico reproduz o caso de Sod com boa fidelidade.\n", "- A PINN demonstra o processo physics-informed, mas requer mais épocas.\n", "- O FNO aprende um operador eficiente com base nos dados disponíveis.\n", "\n", "> Para uma pipeline completa, utilize o script `scripts/run_all_sod_demo.sh`, que salva os artefatos em `data/artifacts/demo_sod/`." ]
  }
 ],
 "metadata": {
  "kernelspec": {
   "display_name": "Python 3",
   "language": "python",
   "name": "python3"
  },
  "language_info": {
   "name": "python",
   "version": "3.11"
  }
 },
 "nbformat": 4,
 "nbformat_minor": 5
}
