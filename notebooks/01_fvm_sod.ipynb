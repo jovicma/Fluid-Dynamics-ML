{
  "cells": [
    {
      "cell_type": "markdown",
      "metadata": {},
      "source": [
        "# 01 — FVM Sod Shock Tube\n",
        "\n",
        "Comparação entre a solução numérica via volumes finitos (Rusanov) e a solução analítica do problema de Sod."
      ]
    },
    {
      "cell_type": "code",
      "execution_count": null,
      "metadata": {},
      "outputs": [],
      "source": [
        "import sys\n",
        "from pathlib import Path\n",
        "\n",
        "PROJECT_ROOT = Path('..').resolve()\n",
        "SRC_PATH = PROJECT_ROOT / 'src'\n",
        "if str(SRC_PATH) not in sys.path:\n",
        "    sys.path.insert(0, str(SRC_PATH))"
      ]
    },
    {
      "cell_type": "code",
      "execution_count": null,
      "metadata": {},
      "outputs": [],
      "source": [
        "import matplotlib.pyplot as plt\n",
        "import numpy as np\n",
        "\n",
        "from riemann_ml.core.euler1d import StatePrim\n",
        "from riemann_ml.exact.sod_exact import sod_exact_profile\n",
        "from riemann_ml.fvm.solver import simulate\n",
        "\n",
        "GAMMA = 1.4\n",
        "NUM_CELLS = 200\n",
        "FINAL_TIME = 0.2\n",
        "CFL = 0.5\n",
        "INTERFACE = 0.5\n",
        "\n",
        "left_state = StatePrim(density=1.0, velocity=0.0, pressure=1.0)\n",
        "right_state = StatePrim(density=0.125, velocity=0.0, pressure=0.1)\n",
        "\n",
        "times, x, q, _ = simulate(\n",
        "    num_cells=NUM_CELLS,\n",
        "    final_time=FINAL_TIME,\n",
        "    cfl=CFL,\n",
        "    left_state=left_state,\n",
        "    right_state=right_state,\n",
        "    gamma=GAMMA,\n",
        "    interface_position=INTERFACE,\n",
        "    store_history=False,\n",
        ")\n",
        "\n",
        "rho = q[:, 0]\n",
        "momentum = q[:, 1]\n",
        "energy = q[:, 2]\n",
        "velocity = momentum / rho\n",
        "pressure = (GAMMA - 1.0) * np.maximum(energy - 0.5 * momentum**2 / np.clip(rho, 1e-12, None), 1e-12)\n",
        "\n",
        "rho_exact, u_exact, p_exact = sod_exact_profile(\n",
        "    x - INTERFACE,\n",
        "    FINAL_TIME,\n",
        "    left_state=left_state,\n",
        "    right_state=right_state,\n",
        "    gamma=GAMMA,\n",
        ")\n",
        "\n",
        "fig, axes = plt.subplots(3, 1, figsize=(10, 9), sharex=True)\n",
        "axes[0].plot(x, rho, label='FVM')\n",
        "axes[0].plot(x, rho_exact, '--', label='Exact')\n",
        "axes[0].set_ylabel('Density')\n",
        "axes[0].grid(True)\n",
        "axes[0].legend()\n",
        "\n",
        "axes[1].plot(x, velocity, label='FVM')\n",
        "axes[1].plot(x, u_exact, '--', label='Exact')\n",
        "axes[1].set_ylabel('Velocity')\n",
        "axes[1].grid(True)\n",
        "\n",
        "axes[2].plot(x, pressure, label='FVM')\n",
        "axes[2].plot(x, p_exact, '--', label='Exact')\n",
        "axes[2].set_ylabel('Pressure')\n",
        "axes[2].set_xlabel('x')\n",
        "axes[2].grid(True)\n",
        "\n",
        "fig.suptitle(f'Sod shock tube: FVM vs exact (t = {FINAL_TIME:.3f})')\n",
        "fig.tight_layout()\n",
        "plt.show()"
      ]
    },
    {
      "cell_type": "markdown",
      "metadata": {},
      "source": [
        "## Artefatos gerados\n\nA célula abaixo exibe a figura produzida pelos scripts de sanidade ou avaliação (quando disponível).\n"
      ]
    },
    {
      "cell_type": "code",
      "execution_count": null,
      "metadata": {},
      "outputs": [],
      "source": [
        "from pathlib import Path\n",
        "from IPython.display import Image, display\n",
        "\n",
        "figure_path = Path('data/artifacts/eval/sod/sod_comparison.png')\n",
        "if figure_path.exists():\n",
        "    display(Image(filename=str(figure_path)))\n",
        "else:\n",
        "    print('Figura não encontrada:', figure_path)\n"
      ]
    },
    {
      "cell_type": "code",
      "execution_count": null,
      "metadata": {},
      "outputs": [],
      "source": [
        "import json\n",
        "from pathlib import Path\n",
        "\n",
        "metrics_path = Path('data/artifacts/eval/sod/sod_metrics.json')\n",
        "if metrics_path.exists():\n",
        "    metrics = json.loads(metrics_path.read_text(encoding='utf-8'))\n",
        "    fvm_metrics = metrics.get('FVM', {})\n",
        "    print('Métricas FVM vs. exata:')\n",
        "    for key, value in fvm_metrics.items():\n",
        "        print(f'  {key}: {value:.6f}')\n",
        "else:\n",
        "    print('Arquivo de métricas não encontrado:', metrics_path)\n"
      ]
    },
    {
      "cell_type": "markdown",
      "metadata": {},
      "source": [
        "> **Comentário:** observe as diferenças de densidade, velocidade e pressão entre o método numérico e a solução exata; os valores numéricos ajudam a documentar o desvio relativo.\n"
      ]
    }
  ],
  "metadata": {
    "kernelspec": {
      "display_name": "Python 3",
      "language": "python",
      "name": "python3"
    },
    "language_info": {
      "name": "python",
      "version": "3.11"
    }
  },
  "nbformat": 4,
  "nbformat_minor": 5
}
